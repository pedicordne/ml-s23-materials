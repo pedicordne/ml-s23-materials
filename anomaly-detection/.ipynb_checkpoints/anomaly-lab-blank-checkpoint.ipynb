{
 "cells": [
  {
   "cell_type": "code",
   "execution_count": 1,
   "id": "744964c8-84b1-4e0c-99db-1aa1dbf6d400",
   "metadata": {},
   "outputs": [],
   "source": [
    "import numpy as np\n",
    "import pandas as pd\n",
    "import matplotlib.pyplot as plt"
   ]
  },
  {
   "cell_type": "code",
   "execution_count": 2,
   "id": "11f21bab-a077-45fd-873c-7d66335d29a7",
   "metadata": {},
   "outputs": [
    {
     "data": {
      "text/html": [
       "<div>\n",
       "<style scoped>\n",
       "    .dataframe tbody tr th:only-of-type {\n",
       "        vertical-align: middle;\n",
       "    }\n",
       "\n",
       "    .dataframe tbody tr th {\n",
       "        vertical-align: top;\n",
       "    }\n",
       "\n",
       "    .dataframe thead th {\n",
       "        text-align: right;\n",
       "    }\n",
       "</style>\n",
       "<table border=\"1\" class=\"dataframe\">\n",
       "  <thead>\n",
       "    <tr style=\"text-align: right;\">\n",
       "      <th></th>\n",
       "      <th>0</th>\n",
       "      <th>1</th>\n",
       "    </tr>\n",
       "  </thead>\n",
       "  <tbody>\n",
       "    <tr>\n",
       "      <th>0</th>\n",
       "      <td>13.046815</td>\n",
       "      <td>14.741152</td>\n",
       "    </tr>\n",
       "    <tr>\n",
       "      <th>1</th>\n",
       "      <td>13.408520</td>\n",
       "      <td>13.763270</td>\n",
       "    </tr>\n",
       "    <tr>\n",
       "      <th>2</th>\n",
       "      <td>14.195915</td>\n",
       "      <td>15.853181</td>\n",
       "    </tr>\n",
       "    <tr>\n",
       "      <th>3</th>\n",
       "      <td>14.914701</td>\n",
       "      <td>16.174260</td>\n",
       "    </tr>\n",
       "    <tr>\n",
       "      <th>4</th>\n",
       "      <td>13.576700</td>\n",
       "      <td>14.042849</td>\n",
       "    </tr>\n",
       "    <tr>\n",
       "      <th>...</th>\n",
       "      <td>...</td>\n",
       "      <td>...</td>\n",
       "    </tr>\n",
       "    <tr>\n",
       "      <th>302</th>\n",
       "      <td>12.476629</td>\n",
       "      <td>14.459370</td>\n",
       "    </tr>\n",
       "    <tr>\n",
       "      <th>303</th>\n",
       "      <td>19.582573</td>\n",
       "      <td>10.411619</td>\n",
       "    </tr>\n",
       "    <tr>\n",
       "      <th>304</th>\n",
       "      <td>23.339868</td>\n",
       "      <td>16.298874</td>\n",
       "    </tr>\n",
       "    <tr>\n",
       "      <th>305</th>\n",
       "      <td>18.261188</td>\n",
       "      <td>17.978309</td>\n",
       "    </tr>\n",
       "    <tr>\n",
       "      <th>306</th>\n",
       "      <td>4.752613</td>\n",
       "      <td>24.350407</td>\n",
       "    </tr>\n",
       "  </tbody>\n",
       "</table>\n",
       "<p>307 rows × 2 columns</p>\n",
       "</div>"
      ],
      "text/plain": [
       "             0          1\n",
       "0    13.046815  14.741152\n",
       "1    13.408520  13.763270\n",
       "2    14.195915  15.853181\n",
       "3    14.914701  16.174260\n",
       "4    13.576700  14.042849\n",
       "..         ...        ...\n",
       "302  12.476629  14.459370\n",
       "303  19.582573  10.411619\n",
       "304  23.339868  16.298874\n",
       "305  18.261188  17.978309\n",
       "306   4.752613  24.350407\n",
       "\n",
       "[307 rows x 2 columns]"
      ]
     },
     "execution_count": 2,
     "metadata": {},
     "output_type": "execute_result"
    }
   ],
   "source": [
    "df = pd.read_csv(\"data1.csv\", header=None)\n",
    "df"
   ]
  },
  {
   "cell_type": "code",
   "execution_count": 3,
   "id": "453aaa4b-ddf5-4bda-8a03-850f35c2993e",
   "metadata": {},
   "outputs": [],
   "source": [
    "X_train = df.to_numpy()"
   ]
  },
  {
   "cell_type": "code",
   "execution_count": 4,
   "id": "e935e2d5-e55f-41b3-b922-36d26ce12797",
   "metadata": {},
   "outputs": [
    {
     "data": {
      "image/png": "[encoded data removed]",
      "text/plain": [
       "<Figure size 432x288 with 1 Axes>"
      ]
     },
     "metadata": {
      "needs_background": "light"
     },
     "output_type": "display_data"
    }
   ],
   "source": [
    "plt.scatter(X_train[:, 0], X_train[:, 1], marker='x', c='b') \n",
    "\n",
    "# Set the y-axis label\n",
    "plt.ylabel('Throughput (mb/s)')\n",
    "# Set the x-axis label\n",
    "plt.xlabel('Latency (ms)')\n",
    "# Set axis range\n",
    "plt.axis([0, 30, 0, 30])\n",
    "plt.show()"
   ]
  },
  {
   "cell_type": "code",
   "execution_count": 5,
   "id": "986484c9-6965-4443-abd0-ea7f119f7277",
   "metadata": {},
   "outputs": [],
   "source": [
    "def estimate_mean_and_variance(X): \n",
    "    \"\"\"\n",
    "    Calculates mean of an array\n",
    "    in the dataset\n",
    "    \n",
    "    Args:\n",
    "        X (ndarray): (m, n) Data matrix\n",
    "    \n",
    "    Returns:\n",
    "        mu (ndarray): (n,) Mean of all features\n",
    "        var (ndarray): (n,) Variance of all features\n",
    "    \"\"\"\n",
    "\n",
    "    m, n = X.shape\n",
    "    \n",
    "    ### START CODE HERE ### \n",
    "    # m = number of training examples\n",
    "    # n = number of features\n",
    "    \n",
    "    mu = np.zeros(n) #mu = [0, 0]\n",
    "    var = np.zeros(n) \n",
    "    for i in range(0, n):\n",
    "        total = 0\n",
    "        for j in range(0, m):\n",
    "            total += X[j][i]\n",
    "        avg = 1/m * total\n",
    "        mu[i] = avg\n",
    "    \n",
    "    for i in range(0, n):\n",
    "        total = 0\n",
    "        for j in range(0, m):\n",
    "            total += (X[j][i] - mu[i]) **2\n",
    "        avg = 1/m * total\n",
    "        var[i] = avg\n",
    "    \n",
    "    ### END CODE HERE ### \n",
    "        \n",
    "    return mu, var"
   ]
  },
  {
   "cell_type": "code",
   "execution_count": 6,
   "id": "d084e3b2-6150-41fc-9271-b8c19bd392d6",
   "metadata": {},
   "outputs": [
    {
     "data": {
      "text/plain": [
       "(array([14.11222578, 14.99771051]), array([1.83263141, 1.70974533]))"
      ]
     },
     "execution_count": 6,
     "metadata": {},
     "output_type": "execute_result"
    }
   ],
   "source": [
    "estimate_mean_and_variance(X_train)"
   ]
  },
  {
   "cell_type": "code",
   "execution_count": 7,
   "id": "9ebc0bd2-0c7e-4603-872e-6d730721c747",
   "metadata": {},
   "outputs": [
    {
     "data": {
      "text/plain": [
       "array([14.11222578, 14.99771051])"
      ]
     },
     "execution_count": 7,
     "metadata": {},
     "output_type": "execute_result"
    }
   ],
   "source": [
    "X_means = np.mean(X_train, axis=0)\n",
    "X_means"
   ]
  },
  {
   "cell_type": "code",
   "execution_count": 8,
   "id": "235af4e7-95e9-4a4c-9ac6-70c6cdbe28cf",
   "metadata": {},
   "outputs": [
    {
     "data": {
      "text/plain": [
       "array([1.83263141, 1.70974533])"
      ]
     },
     "execution_count": 8,
     "metadata": {},
     "output_type": "execute_result"
    }
   ],
   "source": [
    "X_variances = np.var(X_train, axis=0)\n",
    "X_variances"
   ]
  },
  {
   "cell_type": "code",
   "execution_count": 9,
   "id": "5ed61c52-81dd-4888-a800-4248cf601fd3",
   "metadata": {},
   "outputs": [],
   "source": [
    "import math\n",
    "\n",
    "def gaussian_prob(x, mean, var):\n",
    "    #YOUR CODE HERE\n",
    "    return (1/np.sqrt(var * 2 * math.pi)) * np.exp(-.5 * (x-mean)**2/var)"
   ]
  },
  {
   "cell_type": "code",
   "execution_count": 10,
   "id": "5ef00a87-66d7-45d9-8a52-01746a9030b7",
   "metadata": {},
   "outputs": [
    {
     "data": {
      "text/plain": [
       "0.2162097663344638"
      ]
     },
     "execution_count": 10,
     "metadata": {},
     "output_type": "execute_result"
    }
   ],
   "source": [
    "gaussian_prob(X_train[0][0], X_means[0], X_variances[0])"
   ]
  },
  {
   "cell_type": "code",
   "execution_count": 11,
   "id": "ee20cfcf-2d5e-4d41-9a33-bfd1e126f82a",
   "metadata": {},
   "outputs": [
    {
     "data": {
      "text/plain": [
       "array([2.16209766e-01, 2.57452082e-01, 2.94132233e-01, 2.47211916e-01,\n",
       "       2.72515466e-01, 2.91811896e-01, 1.87139581e-01, 1.51176482e-01,\n",
       "       9.35633057e-02, 1.66608997e-01, 2.93387080e-01, 2.94487687e-01,\n",
       "       2.55592373e-01, 2.55956210e-01, 2.93271402e-01, 2.94445597e-01,\n",
       "       2.92880166e-01, 2.85183307e-01, 2.77277592e-01, 9.48976547e-02,\n",
       "       2.70272714e-01, 2.93421614e-01, 2.41105554e-01, 2.93042880e-01,\n",
       "       1.96077288e-01, 1.56529792e-01, 2.75904587e-01, 2.57496215e-01,\n",
       "       2.76670469e-01, 2.83495303e-01, 1.70682833e-01, 2.93186130e-01,\n",
       "       2.04326372e-01, 1.95772969e-01, 1.08970523e-01, 2.45951257e-01,\n",
       "       1.40637462e-01, 2.94633744e-01, 2.80527513e-01, 2.93718568e-01,\n",
       "       2.81681579e-01, 2.25242931e-01, 2.82189417e-01, 2.94296621e-01,\n",
       "       2.66749616e-01, 2.88560129e-01, 1.11371040e-01, 2.94677206e-01,\n",
       "       2.89041960e-01, 1.85565846e-01, 2.40902893e-01, 2.79275320e-01,\n",
       "       2.85710057e-01, 2.94679955e-01, 2.79865441e-01, 2.94563913e-01,\n",
       "       2.94678481e-01, 2.92866761e-01, 2.61576838e-01, 2.93931902e-01,\n",
       "       2.41794994e-01, 2.93111756e-01, 2.00125732e-01, 2.89317885e-01,\n",
       "       2.93040180e-01, 2.40827466e-01, 2.81627103e-01, 2.82320567e-01,\n",
       "       1.49365026e-01, 2.04627572e-01, 2.73806550e-01, 2.22298134e-01,\n",
       "       2.92773818e-01, 1.53104025e-01, 2.90566324e-01, 2.92541529e-01,\n",
       "       2.52947439e-01, 2.94689570e-01, 1.12807682e-01, 2.63766248e-01,\n",
       "       2.85763984e-01, 1.87874149e-01, 2.79494587e-01, 1.89150974e-01,\n",
       "       1.68554472e-01, 2.89343679e-01, 2.76231746e-01, 2.35850580e-01,\n",
       "       2.88643387e-01, 2.93638597e-01, 2.39163931e-01, 2.55081592e-01,\n",
       "       2.90064661e-01, 1.31747739e-01, 2.91182342e-01, 1.31789998e-01,\n",
       "       1.35249751e-01, 2.68400183e-01, 2.67669491e-01, 2.73685606e-01,\n",
       "       1.20272949e-01, 2.56511049e-01, 2.22004236e-01, 1.89312918e-01,\n",
       "       1.80206828e-01, 2.84304792e-01, 1.48244980e-01, 2.58447884e-01,\n",
       "       2.16888733e-01, 3.14843705e-02, 2.90670741e-01, 1.97172214e-01,\n",
       "       2.07099155e-01, 2.94579060e-01, 2.94303360e-01, 1.13215847e-01,\n",
       "       2.56495523e-01, 2.22535827e-01, 2.89527390e-01, 1.70949392e-01,\n",
       "       1.98590929e-01, 2.94156309e-01, 2.87024626e-01, 2.77023909e-01,\n",
       "       2.80682960e-01, 2.75005634e-01, 2.20461359e-01, 2.44524438e-01,\n",
       "       1.08365371e-01, 2.91268921e-01, 2.52839734e-01, 2.93925135e-01,\n",
       "       2.57366483e-01, 2.20305223e-01, 1.69471369e-01, 2.94179388e-01,\n",
       "       2.52388036e-01, 2.55956032e-01, 2.73297032e-01, 2.23096975e-01,\n",
       "       2.80227466e-01, 2.93036883e-01, 9.10004807e-02, 2.76790950e-01,\n",
       "       2.72056195e-01, 1.60404252e-01, 2.14630346e-01, 1.64305538e-02,\n",
       "       2.01894261e-01, 2.93540106e-01, 1.54332922e-01, 1.50364044e-01,\n",
       "       2.36304512e-01, 2.93491228e-01, 2.62985155e-01, 2.26696505e-01,\n",
       "       2.90017181e-01, 2.70617510e-01, 2.08525108e-01, 2.89292076e-01,\n",
       "       2.73461292e-01, 1.15578303e-01, 2.79114147e-01, 2.90350221e-01,\n",
       "       2.75679349e-01, 2.94556584e-01, 2.94373538e-01, 2.94541660e-01,\n",
       "       1.24552426e-01, 2.93206842e-01, 1.71070788e-02, 2.91399355e-01,\n",
       "       1.28466845e-01, 2.17461938e-01, 1.95626726e-01, 2.70392792e-01,\n",
       "       2.72713124e-01, 2.93285255e-01, 1.96520018e-01, 1.21161384e-01,\n",
       "       2.89390700e-01, 2.94645135e-01, 1.62627510e-01, 2.89688480e-01,\n",
       "       2.82809596e-01, 2.93069396e-01, 2.21979231e-01, 2.19292110e-01,\n",
       "       2.47251810e-01, 2.93011617e-01, 2.82346637e-01, 1.48014318e-01,\n",
       "       2.55546871e-01, 2.94628782e-01, 2.54548884e-01, 1.71670330e-01,\n",
       "       2.42943662e-01, 2.92409661e-01, 2.18861098e-01, 2.74550621e-01,\n",
       "       1.69465837e-01, 2.90497267e-01, 2.93958709e-01, 1.91947702e-01,\n",
       "       2.72590899e-01, 2.55794233e-01, 2.80937436e-01, 1.94550536e-01,\n",
       "       2.81290987e-01, 2.93952685e-01, 2.76903928e-01, 2.36771026e-01,\n",
       "       2.94471450e-01, 2.85066979e-01, 2.72754134e-01, 2.89414160e-01,\n",
       "       2.92402207e-01, 2.45211543e-01, 2.85390190e-01, 2.60898065e-01,\n",
       "       2.94175121e-01, 2.87883751e-01, 6.16721394e-02, 1.09148901e-01,\n",
       "       2.50711451e-01, 2.18380722e-01, 6.74633203e-02, 1.95250762e-01,\n",
       "       2.75861961e-01, 2.80959056e-01, 1.63945590e-01, 1.67972271e-01,\n",
       "       2.88076179e-01, 2.12045037e-01, 2.30433965e-01, 2.52776363e-01,\n",
       "       1.86849739e-01, 2.86679352e-01, 2.73606249e-01, 1.39537209e-01,\n",
       "       2.93640261e-01, 2.01592834e-01, 2.81561586e-01, 2.25759836e-01,\n",
       "       2.87765608e-01, 2.13443807e-01, 2.80716858e-01, 2.40804042e-01,\n",
       "       2.39066785e-01, 1.00847997e-01, 2.88948242e-01, 1.13488339e-01,\n",
       "       2.84392609e-01, 2.52257409e-01, 2.21048326e-01, 2.75227457e-01,\n",
       "       2.16212158e-01, 2.94550720e-01, 2.37776203e-01, 2.92361019e-01,\n",
       "       1.88674332e-01, 2.32064606e-01, 2.55290035e-01, 2.18558244e-01,\n",
       "       2.79279179e-01, 2.74146308e-01, 2.44643491e-01, 2.87699249e-01,\n",
       "       2.91535427e-01, 2.69169484e-01, 2.58913687e-01, 2.85572859e-01,\n",
       "       2.85164268e-01, 2.94417651e-01, 1.99364900e-01, 2.29539212e-01,\n",
       "       1.70946436e-01, 2.89481856e-01, 2.42086739e-01, 7.87128185e-02,\n",
       "       2.53570008e-01, 1.12090018e-01, 2.94528979e-01, 2.41116026e-01,\n",
       "       2.63677070e-01, 2.49415444e-01, 2.16612557e-01, 2.85766626e-01,\n",
       "       2.16633171e-01, 2.93887209e-01, 2.87949198e-01, 2.94684492e-01,\n",
       "       2.79847123e-01, 2.94681684e-01, 2.77807376e-01, 2.81415591e-01,\n",
       "       2.91860117e-01, 2.79116442e-01, 2.93675087e-01, 9.13501554e-02,\n",
       "       2.20269615e-01, 3.96782982e-08, 1.42034080e-01, 8.38717593e-05,\n",
       "       2.39928431e-11, 2.68974020e-03, 1.22865368e-11])"
      ]
     },
     "execution_count": 11,
     "metadata": {},
     "output_type": "execute_result"
    }
   ],
   "source": [
    "g = np.vectorize(gaussian_prob)\n",
    "g(X_train[:, 0], X_means[0], X_variances[0])"
   ]
  },
  {
   "cell_type": "code",
   "execution_count": 12,
   "id": "72701744-bc7e-4fde-8c2a-dade127c6432",
   "metadata": {},
   "outputs": [
    {
     "data": {
      "text/plain": [
       "array([2.99284746e-01, 1.95392360e-01, 2.46318960e-01, 2.03532846e-01,\n",
       "       2.33693033e-01, 1.45498945e-01, 2.56009184e-01, 2.41513408e-01,\n",
       "       1.99499132e-01, 3.04234834e-01, 9.03757851e-02, 2.87662344e-01,\n",
       "       2.77971214e-01, 2.71738637e-01, 1.28818679e-01, 2.80876874e-01,\n",
       "       2.99754412e-01, 3.04633203e-01, 2.49464313e-01, 1.02581058e-01,\n",
       "       2.80112059e-01, 3.01193924e-01, 1.55160458e-01, 2.97354362e-01,\n",
       "       2.10442712e-01, 1.58947531e-01, 2.86657540e-01, 2.94850510e-01,\n",
       "       2.92137101e-01, 2.70338163e-01, 2.93628532e-01, 3.00320581e-01,\n",
       "       3.02398969e-01, 3.04554030e-01, 1.91817067e-01, 1.86190141e-01,\n",
       "       2.51297325e-01, 2.78748292e-01, 2.58201165e-01, 2.89320696e-01,\n",
       "       2.27873738e-01, 2.95141101e-01, 2.96810187e-01, 2.91413599e-01,\n",
       "       2.60404516e-01, 2.03936058e-01, 2.96893121e-01, 2.38597568e-01,\n",
       "       2.68990183e-01, 1.93941438e-01, 3.05090900e-01, 2.70775656e-01,\n",
       "       2.99146204e-01, 3.04690408e-01, 2.71095395e-01, 2.86679305e-01,\n",
       "       2.94547122e-01, 3.05088354e-01, 2.99341818e-01, 2.07519413e-01,\n",
       "       2.85024755e-01, 3.05000594e-01, 1.17730332e-01, 1.35553630e-01,\n",
       "       1.18352005e-01, 2.93080151e-01, 1.20365545e-01, 2.86576845e-01,\n",
       "       1.60233672e-01, 4.48392029e-02, 3.02943062e-01, 7.87431128e-02,\n",
       "       2.66744060e-01, 3.02022179e-01, 2.84060725e-01, 2.97597933e-01,\n",
       "       2.75352323e-01, 3.02134716e-01, 2.72330171e-01, 2.75059488e-01,\n",
       "       3.05098540e-01, 2.67181999e-01, 3.03780038e-01, 2.77293509e-01,\n",
       "       2.82099556e-01, 2.73739987e-01, 2.79663124e-01, 3.04515664e-01,\n",
       "       2.99501077e-01, 2.69668171e-01, 2.92018763e-01, 2.98921982e-01,\n",
       "       3.05051328e-01, 2.94169627e-01, 2.86108916e-01, 2.62350324e-01,\n",
       "       2.25014032e-01, 2.42553634e-01, 1.63199857e-01, 3.04559711e-01,\n",
       "       3.00557638e-01, 2.11214964e-01, 2.40422100e-01, 2.62532623e-01,\n",
       "       2.88105823e-01, 2.98650761e-01, 2.19893448e-01, 2.68076544e-01,\n",
       "       1.29928369e-01, 3.03473762e-01, 2.82566571e-01, 1.46001807e-01,\n",
       "       3.02744213e-01, 7.20058328e-02, 2.90461854e-02, 2.98711002e-01,\n",
       "       2.34678491e-01, 1.95644356e-01, 3.04975674e-01, 1.19684940e-01,\n",
       "       2.89088809e-01, 2.68021243e-01, 3.04815632e-01, 3.05000828e-01,\n",
       "       1.38735051e-01, 2.47568131e-01, 2.31808432e-01, 2.87681113e-01,\n",
       "       2.63068631e-01, 3.03821168e-01, 2.62939449e-01, 1.20540789e-01,\n",
       "       2.91337912e-01, 2.52571546e-01, 2.02122003e-01, 2.93300495e-01,\n",
       "       2.81359662e-01, 2.69248517e-01, 2.74011378e-01, 2.72495159e-01,\n",
       "       1.75571405e-01, 3.04923767e-01, 1.77108866e-01, 1.76388591e-01,\n",
       "       3.05061339e-01, 1.21493512e-01, 2.59861499e-01, 2.82027310e-01,\n",
       "       2.91811664e-01, 3.04988560e-01, 3.01568729e-01, 1.96931007e-01,\n",
       "       2.70061115e-01, 2.85758389e-01, 1.80457232e-01, 2.52891342e-01,\n",
       "       3.05043120e-01, 1.91002380e-01, 3.01968407e-01, 3.04910887e-01,\n",
       "       3.01550816e-01, 2.73062576e-01, 1.65328839e-01, 2.87472773e-01,\n",
       "       2.55507226e-01, 1.47472979e-01, 2.73943670e-01, 2.92868634e-01,\n",
       "       1.80557603e-01, 2.47683911e-01, 1.53031756e-01, 3.05061655e-01,\n",
       "       3.03248275e-01, 2.81764748e-01, 2.57164445e-01, 2.60768952e-01,\n",
       "       2.85625309e-01, 3.04421006e-01, 2.62874823e-01, 3.02859668e-01,\n",
       "       2.95902791e-01, 2.65400760e-01, 2.69337130e-01, 2.10613718e-01,\n",
       "       2.92477952e-01, 2.03651023e-01, 2.97611417e-01, 2.29852835e-01,\n",
       "       2.73925617e-01, 2.64298144e-01, 1.62127840e-01, 2.27952249e-01,\n",
       "       2.71408041e-01, 2.24620839e-01, 2.30292103e-01, 2.61654082e-01,\n",
       "       2.98875452e-01, 2.92153077e-01, 3.02686486e-01, 3.10774104e-02,\n",
       "       2.51392121e-01, 2.43318210e-01, 2.68337995e-01, 2.49625188e-01,\n",
       "       3.03877245e-01, 2.69359506e-01, 2.37665244e-01, 1.18792407e-01,\n",
       "       2.89740759e-01, 2.50161990e-01, 1.74362539e-01, 2.82600114e-01,\n",
       "       1.94632818e-01, 1.37158503e-01, 3.04949001e-01, 2.44714660e-01,\n",
       "       2.31143706e-01, 2.67428398e-01, 1.55878409e-01, 3.04509198e-01,\n",
       "       2.75775857e-01, 2.75660692e-01, 3.00712766e-01, 2.66866584e-01,\n",
       "       1.77084883e-01, 3.03046751e-01, 2.87756800e-01, 2.89388727e-01,\n",
       "       1.68340272e-01, 2.87638869e-01, 3.04010514e-01, 1.67120105e-01,\n",
       "       3.01009729e-01, 3.04756169e-01, 3.03825850e-01, 2.97386796e-01,\n",
       "       2.94533298e-01, 2.96622772e-01, 1.85683875e-01, 2.79407912e-01,\n",
       "       1.26096177e-01, 5.87179160e-02, 2.98043563e-01, 2.87499148e-01,\n",
       "       2.40069693e-01, 2.59140094e-01, 2.56734191e-01, 1.82613625e-01,\n",
       "       2.95003198e-01, 6.22955478e-02, 2.23293346e-01, 2.81363003e-01,\n",
       "       1.78414386e-01, 1.47922349e-01, 3.03598458e-01, 3.03605489e-01,\n",
       "       2.47706574e-01, 2.97701461e-01, 2.22659352e-01, 3.00110876e-01,\n",
       "       2.62577901e-01, 1.82763491e-01, 2.95404023e-01, 3.00982209e-01,\n",
       "       2.34554729e-01, 2.64175695e-01, 2.68565994e-01, 2.49912557e-01,\n",
       "       1.92280499e-01, 2.56244632e-01, 2.03108398e-01, 2.94475789e-01,\n",
       "       3.05043938e-01, 2.19894278e-01, 2.21801516e-01, 1.03403959e-01,\n",
       "       2.27933694e-01, 1.23305161e-01, 2.40913667e-01, 2.92194735e-01,\n",
       "       3.02063988e-01, 2.87133296e-01, 1.96459761e-01, 2.75140461e-01,\n",
       "       2.85922017e-01, 2.69566819e-01, 2.96622276e-01, 2.57508309e-01,\n",
       "       2.82597443e-01, 3.04457623e-01, 2.73276519e-01, 3.04939531e-01,\n",
       "       3.03380220e-01, 2.23233925e-01, 2.59837365e-01, 2.56802715e-01,\n",
       "       2.98726020e-01, 2.84478026e-01, 2.45330728e-01, 1.37234952e-01,\n",
       "       2.69369523e-05, 2.97696519e-16, 2.80308811e-01, 6.50477938e-04,\n",
       "       1.85960478e-01, 2.27054805e-02, 2.37077920e-12])"
      ]
     },
     "execution_count": 12,
     "metadata": {},
     "output_type": "execute_result"
    }
   ],
   "source": [
    "g = np.vectorize(gaussian_prob)\n",
    "g(X_train[:, 1], X_means[1], X_variances[1])"
   ]
  },
  {
   "cell_type": "code",
   "execution_count": 13,
   "id": "64317451-35f3-40f3-934e-edf7c7785c24",
   "metadata": {},
   "outputs": [],
   "source": [
    "def data_prob(x1, x2, x1mean, x1var, x2mean, x2var):\n",
    "    return gaussian_prob(x1, x1mean, x1var) * gaussian_prob(x2, x2mean, x2var)"
   ]
  },
  {
   "cell_type": "code",
   "execution_count": 14,
   "id": "5af98871-59c0-47f9-8b9d-98740778e1ed",
   "metadata": {},
   "outputs": [
    {
     "data": {
      "text/plain": [
       "array([13.04681517, 14.74115241])"
      ]
     },
     "execution_count": 14,
     "metadata": {},
     "output_type": "execute_result"
    }
   ],
   "source": [
    "X_train[0, :]"
   ]
  },
  {
   "cell_type": "code",
   "execution_count": 15,
   "id": "2d8892fe-7f57-4ca8-bd77-b31fc3fbf1db",
   "metadata": {},
   "outputs": [],
   "source": [
    "def compute_probs(X, means, variances):\n",
    "    probs = []\n",
    "    for i in range(X.shape[0]):\n",
    "        row = X[i, :]\n",
    "        x1 = row[0]\n",
    "        x2 = row[1]\n",
    "        x1mean = means[0]\n",
    "        x1var = variances[0]\n",
    "        x2mean = means[1]\n",
    "        x2var = variances[1]\n",
    "        p = data_prob(x1, x2, x1mean, x1var, x2mean, x2var)\n",
    "        probs.append(p)\n",
    "    return probs"
   ]
  },
  {
   "cell_type": "code",
   "execution_count": 16,
   "id": "777651bb-a129-454b-9d37-44e07326d15d",
   "metadata": {},
   "outputs": [
    {
     "name": "stdout",
     "output_type": "stream",
     "text": [
      "[6.47082850e-02 5.03041698e-02 7.24503459e-02 5.03157449e-02\n",
      " 6.36849659e-02 4.24583229e-02 4.79094513e-02 3.65111475e-02\n",
      " 1.86657982e-02 5.06882606e-02 2.65150876e-02 8.47130184e-02\n",
      " 7.10473221e-02 6.95531915e-02 3.77788347e-02 8.27029590e-02\n",
      " 8.77921220e-02 8.68763044e-02 6.91708641e-02 9.73470183e-03\n",
      " 7.57066462e-02 8.83768075e-02 3.74100482e-02 8.71375788e-02\n",
      " 4.12630362e-02 2.48800240e-02 7.90901301e-02 7.59228903e-02\n",
      " 8.08257085e-02 7.66395995e-02 5.01173495e-02 8.80498288e-02\n",
      " 6.17880843e-02 5.96234468e-02 2.09024061e-02 4.57936992e-02\n",
      " 3.53418180e-02 8.21286529e-02 7.24325305e-02 8.49788604e-02\n",
      " 6.41878342e-02 6.64784466e-02 8.37566936e-02 8.57620376e-02\n",
      " 6.94628047e-02 5.88478152e-02 3.30652956e-02 7.03092646e-02\n",
      " 7.77494498e-02 3.59889070e-02 7.34972805e-02 7.56209580e-02\n",
      " 8.54690789e-02 8.97861557e-02 7.58702323e-02 8.44453777e-02\n",
      " 8.67966985e-02 8.93502381e-02 7.83008863e-02 6.09965756e-02\n",
      " 6.89175589e-02 8.93992597e-02 2.35608690e-02 3.92180895e-02\n",
      " 3.46818929e-02 7.05817501e-02 3.38981997e-02 8.09065374e-02\n",
      " 2.39333066e-02 9.17533725e-03 8.29477945e-02 1.75044471e-02\n",
      " 7.80956769e-02 4.62408113e-02 8.25384806e-02 8.70597544e-02\n",
      " 6.96496649e-02 8.90359495e-02 3.07209354e-02 7.25514091e-02\n",
      " 8.71861743e-02 5.01965908e-02 8.49048764e-02 5.24503374e-02\n",
      " 4.75491418e-02 7.92049350e-02 7.72518331e-02 7.18201959e-02\n",
      " 8.64490053e-02 7.91849835e-02 6.98403554e-02 7.62494948e-02\n",
      " 8.84846100e-02 3.87561834e-02 8.33098640e-02 3.45751486e-02\n",
      " 3.04330919e-02 6.51014400e-02 4.36836226e-02 8.33536090e-02\n",
      " 3.61489535e-02 5.41789720e-02 5.33747246e-02 4.97008171e-02\n",
      " 5.19186366e-02 8.49078425e-02 3.25980999e-02 6.92838154e-02\n",
      " 2.81799995e-02 9.55468034e-03 8.21338347e-02 2.87874996e-02\n",
      " 6.26980709e-02 2.12114106e-02 8.54838996e-03 3.38188192e-02\n",
      " 6.01939823e-02 4.35378787e-02 8.82988107e-02 2.04600677e-02\n",
      " 5.74104149e-02 7.88401396e-02 8.74895928e-02 8.44925214e-02\n",
      " 3.89405649e-02 6.80826308e-02 5.11048021e-02 7.03450624e-02\n",
      " 2.85075297e-02 8.84936640e-02 6.64815402e-02 3.54299677e-02\n",
      " 7.49806138e-02 5.56428306e-02 3.42538926e-02 8.62829601e-02\n",
      " 7.10118124e-02 6.89157821e-02 7.48864963e-02 6.07928457e-02\n",
      " 4.91999301e-02 8.93539101e-02 1.61169919e-02 4.88227656e-02\n",
      " 8.29938272e-02 1.94880759e-02 5.57741634e-02 4.63386490e-03\n",
      " 5.89151004e-02 8.95263743e-02 4.65419831e-02 2.96113427e-02\n",
      " 6.38166599e-02 8.38675806e-02 4.74575733e-02 5.73295833e-02\n",
      " 8.84677458e-02 5.16885885e-02 6.29679948e-02 8.82083034e-02\n",
      " 8.24624759e-02 3.15601090e-02 4.61456178e-02 8.34677832e-02\n",
      " 7.04380656e-02 4.34391368e-02 8.06417673e-02 8.62620137e-02\n",
      " 2.24888874e-02 7.26226171e-02 2.61792631e-03 8.88947695e-02\n",
      " 3.89573491e-02 6.12731080e-02 5.03082383e-02 7.05100450e-02\n",
      " 7.78937703e-02 8.92821923e-02 5.16601649e-02 3.66948965e-02\n",
      " 8.56315158e-02 7.81990427e-02 4.38016268e-02 6.10123678e-02\n",
      " 8.27155716e-02 5.96838824e-02 6.60635535e-02 5.04049133e-02\n",
      " 6.77286044e-02 7.74424266e-02 4.57762503e-02 3.37401967e-02\n",
      " 6.93574757e-02 6.61797641e-02 5.86205977e-02 4.49182427e-02\n",
      " 7.26098969e-02 8.54283820e-02 6.62462969e-02 8.53232231e-03\n",
      " 4.26023761e-02 7.06832752e-02 7.88802905e-02 4.79149811e-02\n",
      " 8.28341714e-02 6.89006080e-02 6.67690643e-02 2.31111265e-02\n",
      " 8.15014642e-02 7.35357887e-02 4.82816719e-02 6.69115188e-02\n",
      " 5.73138080e-02 3.90993601e-02 8.31761008e-02 7.08238878e-02\n",
      " 6.75869296e-02 6.55765301e-02 4.44861689e-02 7.94458607e-02\n",
      " 8.11263962e-02 7.93582339e-02 1.85455996e-02 2.91281944e-02\n",
      " 4.43972079e-02 6.61795683e-02 1.94130292e-02 5.65033696e-02\n",
      " 4.64386776e-02 8.08147451e-02 4.98411829e-02 2.80715437e-02\n",
      " 8.67137326e-02 6.46220331e-02 7.00117953e-02 7.51723525e-02\n",
      " 5.50334699e-02 8.50356242e-02 5.08042684e-02 3.89878003e-02\n",
      " 3.70269142e-02 1.18371111e-02 8.39176182e-02 6.49057604e-02\n",
      " 6.90838011e-02 5.53118483e-02 7.20696155e-02 4.39740989e-02\n",
      " 7.05254660e-02 6.28238121e-03 6.45202200e-02 3.19314200e-02\n",
      " 5.07397328e-02 3.73145084e-02 6.71099309e-02 8.35605668e-02\n",
      " 5.35571729e-02 8.76881796e-02 5.29430953e-02 8.77407216e-02\n",
      " 4.95417101e-02 4.24129375e-02 7.54137034e-02 6.57821433e-02\n",
      " 6.55062519e-02 7.24227915e-02 6.57029224e-02 7.18996549e-02\n",
      " 5.60565774e-02 6.89732355e-02 5.25875442e-02 8.40942928e-02\n",
      " 8.69876313e-02 6.47407568e-02 4.42194371e-02 2.37352633e-02\n",
      " 3.89644527e-02 3.56946069e-02 5.83220040e-02 2.29994711e-02\n",
      " 7.65943680e-02 3.21847762e-02 5.78630926e-02 6.63407746e-02\n",
      " 7.53910796e-02 6.72341278e-02 6.42521097e-02 7.35872806e-02\n",
      " 6.12199800e-02 8.94762010e-02 7.86897544e-02 8.98609508e-02\n",
      " 8.49000815e-02 6.57829488e-02 7.21847367e-02 7.22682878e-02\n",
      " 8.71862113e-02 7.94024943e-02 7.20475229e-02 1.25364342e-02\n",
      " 5.93339212e-06 1.18120912e-23 3.98134040e-02 5.45567290e-08\n",
      " 4.46172058e-12 6.10718438e-05 2.91286659e-23]\n"
     ]
    }
   ],
   "source": [
    "probs = np.array(compute_probs(X_train, X_means, X_variances))\n",
    "print(probs)"
   ]
  },
  {
   "cell_type": "code",
   "execution_count": 17,
   "id": "c090415d-980f-4489-bc9c-af7b7e4ee8ad",
   "metadata": {},
   "outputs": [
    {
     "data": {
      "image/png": "[encoded data removed]",
      "text/plain": [
       "<Figure size 432x288 with 1 Axes>"
      ]
     },
     "metadata": {
      "needs_background": "light"
     },
     "output_type": "display_data"
    }
   ],
   "source": [
    "\n",
    "plt.scatter(X_train[:, 0], X_train[:, 1], marker='o', c=np.log(probs)) \n",
    "\n",
    "# Set the y-axis label\n",
    "plt.ylabel('Throughput (mb/s)')\n",
    "# Set the x-axis label\n",
    "plt.xlabel('Latency (ms)')\n",
    "# Set axis range\n",
    "plt.axis([0, 30, 0, 30])\n",
    "plt.show()"
   ]
  },
  {
   "cell_type": "code",
   "execution_count": 18,
   "id": "af790fb3-6f68-4655-b4c3-58ddd673dbd2",
   "metadata": {},
   "outputs": [
    {
     "data": {
      "image/png": "[encoded data removed]",
      "text/plain": [
       "<Figure size 432x288 with 1 Axes>"
      ]
     },
     "metadata": {
      "needs_background": "light"
     },
     "output_type": "display_data"
    }
   ],
   "source": [
    "epsilon = .001\n",
    "\n",
    "colors = probs < epsilon\n",
    "\n",
    "plt.scatter(X_train[:, 0], X_train[:, 1], marker='o', c=colors) \n",
    "\n",
    "# Set the y-axis label\n",
    "plt.ylabel('Throughput (mb/s)')\n",
    "# Set the x-axis label\n",
    "plt.xlabel('Latency (ms)')\n",
    "# Set axis range\n",
    "plt.axis([0, 30, 0, 30])\n",
    "plt.show()"
   ]
  },
  {
   "cell_type": "code",
   "execution_count": null,
   "id": "8c323e0c-2d7e-4195-8bb3-2888e9908b17",
   "metadata": {},
   "outputs": [],
   "source": []
  }
 ],
 "metadata": {
  "kernelspec": {
   "display_name": "Python 3 (ipykernel)",
   "language": "python",
   "name": "python3"
  },
  "language_info": {
   "codemirror_mode": {
    "name": "ipython",
    "version": 3
   },
   "file_extension": ".py",
   "mimetype": "text/x-python",
   "name": "python",
   "nbconvert_exporter": "python",
   "pygments_lexer": "ipython3",
   "version": "3.9.12"
  }
 },
 "nbformat": 4,
 "nbformat_minor": 5
}
